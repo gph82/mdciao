{
 "cells": [
  {
   "cell_type": "markdown",
   "metadata": {},
   "source": [
    "# Controlling Flareplots\n",
    "The purpose of this notebook is to show the different ways in which a user can select which residues get shown or hidden in a flareplot, and how they can be broken down into different types of fragments to inform about the molecular topology.\n",
    "\n",
    "We will try different ways of calling the method [plot_freqs_as_flareplot](https://proteinformatics.uni-leipzig.de/mdciao/api/generated/generated/mdciao.contacts.ContactGroup.html#mdciao.contacts.ContactGroup.plot_freqs_as_flareplot), which is a class method of the object [ContactGroup](https://proteinformatics.uni-leipzig.de/mdciao/api/generated/generated/mdciao.contacts.ContactGroup.html). Under the hood, the lower-level [mdciao.flare.freqs2flare](https://proteinformatics.uni-leipzig.de/mdciao/api/generated/generated/mdciao.flare.freqs2flare.html#mdciao.flare.freqs2flare) is at work, which is explained in [this other notebook](https://proteinformatics.uni-leipzig.de/mdciao/notebooks/Comparing_CGs_Flares.html#The-Lower-Level-Method-freqs2flare)\n",
    "\n",
    "We will use as an example the [3SN6](https://www.rcsb.org/structure/3sn6) structure:  \n",
    "*Crystal structure of the beta2 adrenergic receptor-Gs protein complex*, Rasmussen, S.G. et al., Nature 2011, https://doi.org/10.1038/nature10361"
   ]
  },
  {
   "cell_type": "code",
   "execution_count": null,
   "metadata": {},
   "outputs": [],
   "source": [
    "import mdciao\n",
    "geom = mdciao.cli.pdb(\"3SN6\")\n",
    "fragments = mdciao.fragments.get_fragments(geom.top)"
   ]
  },
  {
   "cell_type": "markdown",
   "metadata": {},
   "source": [
    "These fragments do not exactly coincide with the ``chains`` (check [this](https://proteinformatics.uni-leipzig.de/mdciao/notebooks/Tutorial.html#Fragmentation-Heuristics) for more info), but they are useful for this example. The fragments are:  \n",
    "\n",
    "0. G-protein $\\alpha$ sub-unit  \n",
    "1. G-protein $\\beta$ sub-unit  \n",
    "2. G-protein $\\gamma$ sub-unit  \n",
    "3. Bacteriophage T4 lysozyme as N-terminus  \n",
    "4. $\\beta_2$ adrenergic receptor  \n",
    "5. VHH nanobody  \n",
    "6. Ligand P0G  \n",
    "\n",
    "Hence, we name them accordingly:"
   ]
  },
  {
   "cell_type": "code",
   "execution_count": null,
   "metadata": {},
   "outputs": [],
   "source": [
    "fragment_names=['Galpha','Gbeta','Ggamma','T4L','B_2AR','NB','P0G']"
   ]
  },
  {
   "cell_type": "markdown",
   "metadata": {},
   "source": [
    "Now, we choose which fragments to use when computing the G-protein-Receptor interface, via the ``frag_idxs_group`` variables, namely:      \n",
    "* ```frag_idxs_group_1=[0,1,2]```&nbsp;: the G$\\alpha$, G$\\beta$, and G$\\gamma$ sub-units   \n",
    "* ```frag_idxs_group_2=[4]```&emsp;&emsp;&ensp;: the B2AR receptor\n",
    "\n",
    "And we [compute the interface](https://proteinformatics.uni-leipzig.de/mdciao/api/generated/generated/mdciao.cli.interface.html#mdciao.cli.interface) without producing or saving any figures or files using the [options](https://proteinformatics.uni-leipzig.de/mdciao/api/generated/generated/mdciao.cli.interface.html#mdciao.cli.interface) ```figures=False``` and ```no_disk=True```."
   ]
  },
  {
   "cell_type": "code",
   "execution_count": null,
   "metadata": {},
   "outputs": [],
   "source": [
    "GPCR = mdciao.nomenclature.LabelerGPCR(\"adrb2_human\")\n",
    "CGN = mdciao.nomenclature.LabelerCGN(\"GNAS2_HUMAN\")\n",
    "intf = mdciao.cli.interface(geom,\n",
    "                            frag_idxs_group_1=[0, 1, 2],\n",
    "                            frag_idxs_group_2=[4], \n",
    "                            no_disk=True,                            \n",
    "                            figures=False,\n",
    "                            fragment_names=fragment_names,\n",
    "                            fragments=fragments,\n",
    "                            GPCR_uniprot=GPCR, CGN_uniprot=CGN,\n",
    "                            accept_guess=True,\n",
    "                            ctc_control=1.)"
   ]
  },
  {
   "cell_type": "markdown",
   "metadata": {},
   "source": [
    "## The ```scheme``` option in ```plot_freqs_as_flareplot```\n",
    "\n",
    "The ```scheme``` option controls which residues get shown in the flareplot, and how they get split into fragments. This choice can vary between *all residues* and *only those strictly necessary*.\n",
    "\n",
    "Depending what exactly the user wants to highlight, there's a tradeoff between the number of residues shown and how legible the plot remains. On the one hand, the more residues you show, the more possibilities you have to display the sequence and overall topology of the system with its fragments, e.g. receptor and G-protein and perhaps even sub-domain fragmentation, e.g. breaking the receptor into helices and loops. On the other hand, more residues means smaller fontsizes and possibly a lot of seemingly unused blank space.\n",
    "\n",
    "Let's go over the main options for ```scheme```. Since we're leaving some out, check the [docs](https://proteinformatics.uni-leipzig.de/mdciao/api/generated/generated/mdciao.contacts.ContactGroup.html#mdciao.contacts.ContactGroup.plot_freqs_as_flareplot) to see all possibilities."
   ]
  },
  {
   "cell_type": "markdown",
   "metadata": {},
   "source": [
    "### ```scheme=='all'```\n",
    "From the [docs](https://proteinformatics.uni-leipzig.de/mdciao/api/generated/generated/mdciao.contacts.ContactGroup.html#mdciao.contacts.ContactGroup.plot_freqs_as_flareplot):\n",
    "```\n",
    "How to decide which residues to plot\n",
    " * 'all'\n",
    "    plot as many residues as possible. E.g.,\n",
    "    if a :obj:`self.topology` is present,\n",
    "    plot all its residues. This can be modified\n",
    "    with :obj:`fragments`, see above.\n",
    "```"
   ]
  },
  {
   "cell_type": "code",
   "execution_count": null,
   "metadata": {},
   "outputs": [],
   "source": [
    "ifig, iax = intf.plot_freqs_as_flareplot(3.5, scheme=\"all\");\n",
    "ifig.savefig(\"flare.all.pdf\")"
   ]
  },
  {
   "cell_type": "markdown",
   "metadata": {},
   "source": [
    "Definitively hard to see anything in the notebook. However, open ```flare.all.pdf``` externally and zoom in. You'll see that all information is there. Let's include the fragment information from above, which was:\n",
    "```\n",
    "fragments = mdciao.fragments.get_fragments(geom.top)\n",
    "fragment_names=['Galpha','Gbeta','Ggamma','T4L','B_2AR','NB','P0G']\n",
    "```"
   ]
  },
  {
   "cell_type": "code",
   "execution_count": null,
   "metadata": {},
   "outputs": [],
   "source": [
    "ifig, iax = intf.plot_freqs_as_flareplot(3.5, \n",
    "                                         scheme=\"all\",\n",
    "                                         fragments=fragments,\n",
    "                                         fragment_names=fragment_names)\n",
    "ifig.savefig(\"flare.all.w_fragments.pdf\")"
   ]
  },
  {
   "cell_type": "markdown",
   "metadata": {},
   "source": [
    "Still barely legible in the notebook, but zoom into ```flare.all.w_fragments.pdf``` and you'll notice a couple of things:  \n",
    " \n",
    " * The residue dots are now grouped into fragments  \n",
    " * The fragments are named  \n",
    " * The fragments (their residues' dots) are color-coded, e.g. G$\\alpha$ is blue, receptor is B$_2$AR is violet"
   ]
  },
  {
   "cell_type": "markdown",
   "metadata": {},
   "source": [
    "### Unused Space : ```scheme='interface'```\n",
    "While it might be usefull to plot **all** residues and fragments of the topology, most of the flareplot is *unused*. E.g., we know for sure that the 4TL and the NB won't get any contacts, because they simply were not considered when defining the interface, as we did above:  \n",
    "    \n",
    "* ```frag_idxs_group_1=[0,1,2]```&nbsp;: the G$\\alpha$, G$\\beta$, and G$\\gamma$ sub-units   \n",
    "* ```frag_idxs_group_2=[4]```&emsp;&emsp;&ensp;: the B2AR receptor\n",
    "\n",
    "So, we can hide 4TL and the NB by using the ```scheme=interface``` option, which will automatically hide fragments that weren't even considered in the interface definition. This is possible because the residues defining these fragments are stored internally in the [intf.interface_fragments]() object, and get re-used here.\n",
    "\n",
    "From the [docs](https://proteinformatics.uni-leipzig.de/mdciao/api/generated/generated/mdciao.contacts.ContactGroup.html#mdciao.contacts.ContactGroup.plot_freqs_as_flareplot):\n",
    "```\n",
    "* 'interface':\n",
    "    use only the fragments in\n",
    "    :obj:`self.interface_fragments`. Will\n",
    "    only work if self.is_interface is True\n",
    "```"
   ]
  },
  {
   "cell_type": "code",
   "execution_count": null,
   "metadata": {},
   "outputs": [],
   "source": [
    "intf.plot_freqs_as_flareplot(3.5, \n",
    "                             scheme=\"interface\", \n",
    "                            fragments=fragments, \n",
    "                            fragment_names=fragment_names,\n",
    "                            );\n",
    "ifig.savefig(\"flare.interface.w_fragments.pdf\")"
   ]
  },
  {
   "cell_type": "markdown",
   "metadata": {},
   "source": [
    "Now, we only have the fragments that were interesting to us to begin with. Still, a lot of unused space, because some of the fragments we included in the interface definition (G$\\beta$ and G$\\gamma$), as potential interface partners, don't have any contacts with the B2AR (at 3.5 Angstrom) in the 3SN6 structure. So, we hide them in the next paragraph.\n",
    "\n",
    "### Unused Space: ```scheme=interface_sparse```\n",
    "From the [docs](https://proteinformatics.uni-leipzig.de/mdciao/api/generated/generated/mdciao.contacts.ContactGroup.html#mdciao.contacts.ContactGroup.plot_freqs_as_flareplot):\n",
    "```\n",
    "* 'interface_sparse':\n",
    "    like 'interface', but using the input :obj:`fragments`\n",
    "    to break self.interface_fragments (which are only two,\n",
    "    by definition) further down into other fragments.\n",
    "    Of these, show only the ones where at least one residue\n",
    "    participates in the interface. If :obj:`fragments` is\n",
    "    None, `scheme='interface'` and `scheme='interface_sparse'`\n",
    "    are the same thing.\n",
    "```"
   ]
  },
  {
   "cell_type": "code",
   "execution_count": null,
   "metadata": {},
   "outputs": [],
   "source": [
    "ifig, iax = intf.plot_freqs_as_flareplot(3.5,\n",
    "                                         scheme=\"interface_sparse\", \n",
    "                                         fragments=fragments, \n",
    "                                         fragment_names=fragment_names,\n",
    "                                         SS=True,\n",
    "                                        );\n",
    "ifig.savefig(\"flare.interface_sparse.w_fragments.pdf\")"
   ]
  },
  {
   "cell_type": "markdown",
   "metadata": {},
   "source": [
    "Note that the residues are now annotated with their secondary structure (```SS=True```) as an extra color-coded ring of letters:\n",
    "\n",
    "* $\\alpha$-helix is <span style='color:Purple'> purple H</span>\n",
    "* $\\beta$-sheet is <span style='color:Yellow'>yellow B</span>\n",
    "* random coil is <span style='color:Cyan'> cyan C</span>\n",
    "\n",
    "Now, we can e.g. identify the helices and loops. E.g. we see the CT of the G$\\alpha$ (around 9 o'clock in the plot) is responsible for most contacts. It is mostly helical, except for the last, terminal residues. In the B2AR, we can identify helical domains and the loops connecting them. If we walk the the B2AR-fragment counter-clockwise (starting at around 3 o'clock), we see the last few CT residues as coil, then H8, then the H8-TM7 coil, then H7, then a loop, then TM6, then a loop, and then TM5."
   ]
  },
  {
   "cell_type": "markdown",
   "metadata": {},
   "source": [
    "## Using the Blank Space\n",
    "The next step is either to get rid of the unused, blank space (see further down) or to use it for something. In the next paragraph, we use it to inform about sub-fragments of the topology. In our case, we do this by using \n"
   ]
  },
  {
   "cell_type": "markdown",
   "metadata": {},
   "source": [
    "### Consensus Labels\n",
    "We now incorporate consensus labels for the receptor and the G-protein into the flareplot.  In ```mdciao```, consensus labels are dealt with using the [LabelerConsensus](http://proteinformatics.uni-leipzig.de/mdciao/api/generated/mdciao.nomenclature.html) objects. These were created at the very top of the notebook with :\n",
    "\n",
    "```\n",
    "GPCR = mdciao.nomenclature.LabelerGPCR(\"adrb2_human\")\n",
    "CGN = mdciao.nomenclature.LabelerCGN(\"GNAS2_HUMAN\")\n",
    "```\n",
    "\n",
    "These objects are very versatile and can be reused with multiple topologies or multiple function calls. Because of that flexibility, there's two ways in which we can use them in the flareplot, via the ```consensus_maps``` argument, with different results. From the [docs](https://proteinformatics.uni-leipzig.de/mdciao/api/generated/generated/mdciao.contacts.ContactGroup.html#mdciao.contacts.ContactGroup.plot_freqs_as_flareplot):\n",
    "\n",
    "```\n",
    "consensus_maps : list, default is None\n",
    "    The items of this list are either:\n",
    "     * indexables containing the consensus\n",
    "        labels (strings) themselves. They\n",
    "        need to be \"gettable\" by residue index, i.e.\n",
    "        dict, list or array. Typically, one\n",
    "        generates these maps by using the top2labels\n",
    "        method of the LabelerConsensus object\n",
    "     * :obj:`LabelerConsensus`-objects\n",
    "        When these objects are passed, their\n",
    "        top2labels and top2fragments methods are\n",
    "        called on-the-fly, generating not only\n",
    "        the consensus labels but also the consensus\n",
    "        fragments (i.e. subdomains) to further fragment\n",
    "        the topology into sub-domains, like TM6 or G.H5.\n",
    "        If :obj:`fragments` are parsed, they will be\n",
    "        made compatible with the consensus fragments.\n",
    "    If you want the consensus labels but not\n",
    "    the sub-fragmentation, simply use the first option.\n",
    "```\n",
    "            \n",
    "We will use second option, which will automaticall a) annotate residues and b) fragment the topology (the dots) further into sub-domains corresponding to the consensus sub-domains."
   ]
  },
  {
   "cell_type": "code",
   "execution_count": null,
   "metadata": {},
   "outputs": [],
   "source": [
    "ifig, iax = intf.plot_freqs_as_flareplot(3.5, \n",
    "                                         scheme=\"interface_sparse\", \n",
    "                                         fragments=fragments, \n",
    "                                         fragment_names=fragment_names,\n",
    "                                         consensus_maps=[GPCR, CGN],\n",
    "                                         SS=True)\n",
    "ifig.savefig(\"flare.interface_sparse.w_fragments.w_consensus.pdf\")"
   ]
  },
  {
   "cell_type": "markdown",
   "metadata": {},
   "source": [
    "Same amount of blank space, but now at least we get to see how the consensus descriptors are used to fragment the G$\\alpha$ and the B$_2$AR further. Also, all residues are annotated with their consensus labels, e.g. ```L393@G.H5.25``` and ```A271@6.33```. Legibility remains an issue in the notebook, but check ```flare.interface_sparse.w_fragments.w_consensus.pdf``` and you'll see all annotations clearly there. "
   ]
  },
  {
   "cell_type": "markdown",
   "metadata": {},
   "source": [
    "### Unused Sub-fragments: `scheme='consensus_sparse'`\n",
    "We apply the same sparse logic as before, but to the consensus labels, i.e., only show consensus fragments that were part of the interface. From the [docs](https://proteinformatics.uni-leipzig.de/mdciao/api/generated/generated/mdciao.contacts.ContactGroup.html#mdciao.contacts.ContactGroup.plot_freqs_as_flareplot):\n",
    "```\n",
    "* 'consensus_sparse':\n",
    "    like 'interface_sparse', but\n",
    "    leaving out sub-domains not participating\n",
    "    in the interface with any contacts.For this,\n",
    "    the :obj:`consensus_maps` need to\n",
    "    be actual :obj:`LabelerConsensus`-objects\n",
    "```\n",
    "<a id='scheme_consensus_plot'></a>"
   ]
  },
  {
   "cell_type": "code",
   "execution_count": null,
   "metadata": {},
   "outputs": [],
   "source": [
    "ifig, iax = intf.plot_freqs_as_flareplot(3.5, \n",
    "                                         scheme=\"consensus_sparse\", \n",
    "                                         fragments=fragments, \n",
    "                                         fragment_names=fragment_names,\n",
    "                                         consensus_maps=[GPCR, CGN],\n",
    "                                         SS=True,\n",
    "                                        );\n",
    "ifig.savefig(\"flare.consensus.w_fragments.w_consensus.pdf\")"
   ]
  },
  {
   "cell_type": "markdown",
   "metadata": {},
   "source": [
    "This seems to be a very good compromise for the representation. On the one hand, we're leaving out a lot of *unused* sub-domain fragments, e.g. the extracellular loops (and some helices) of the receptor and the many parts of the G$\\alpha$ far away from the interface (e.g. the entire RAS domain). On the other hand, the topology is still somewhat represented, with full helices and loops clearly noted and visually separated. Of course, there still is some distortion and sequence jumps (e.g ICL2 to TM5 or G.h4s6 to G.H5) but these are easy to spot and are informative themselves: if TM4 and ECL2 aren't shown, they are not participating in the computed interface."
   ]
  },
  {
   "cell_type": "markdown",
   "metadata": {},
   "source": [
    "### Unused Residues: ```scheme='residues'```\n",
    "We can even get rid of **all** residues not involved in the interface. \n",
    "From the [docs](https://proteinformatics.uni-leipzig.de/mdciao/api/generated/generated/mdciao.contacts.ContactGroup.html#mdciao.contacts.ContactGroup.plot_freqs_as_flareplot):\n",
    "```\n",
    " * 'residues':\n",
    "    plot only the residues present in self.res_idxs_pairs\n",
    "```\n",
    "\n",
    "If the interface is plotted using the same ```ctc_cutoff_Ang```, these residues will be those listed in the initial output, on top of the notebook:\n",
    "\n",
    "```\n",
    "    freq                         label residue idxs   sum\n",
    "0    1.0   R385@G.H5.17    - I233@5.72     339 1106   1.0\n",
    "1    1.0   H387@G.H5.19    - A134@3.53     341 1010   2.0\n",
    "2    1.0   T350@G.h4s6.3   - R239@ICL3     304 1112   3.0\n",
    "3    1.0  Q384@G.H5.16    - P138@34.50     338 1014   4.0\n",
    "4    1.0   D381@G.H5.13    - K232@5.71     335 1105   5.0\n",
    "5    1.0   L393@G.H5.25    - A271@6.33     347 1119   6.0\n",
    "6    1.0  F376@G.H5.8     - F139@34.51     330 1015   7.0\n",
    "7    1.0   Q384@G.H5.16    - I135@3.54     338 1011   8.0\n",
    "8    1.0   Q384@G.H5.16    - E225@5.64     338 1098   9.0\n",
    "9    1.0   R385@G.H5.17    - Q229@5.68     339 1102  10.0\n",
    "10   1.0   L393@G.H5.25    - T274@6.36     347 1122  11.0\n",
    "11   1.0   Q384@G.H5.16    - Q229@5.68     338 1102  12.0\n",
    "12   1.0   P122@H.hahb.9   - Q337@8.55      85 1185  13.0\n",
    "13   1.0   Q125@H.HB.3     - Q337@8.55      88 1185  14.0\n",
    "14   1.0   R380@G.H5.12    - T136@3.55     334 1012  15.0\n",
    "15   1.0  R380@G.H5.12    - F139@34.51     334 1015  16.0\n",
    "16   1.0   E392@G.H5.24    - T274@6.36     346 1122  17.0\n",
    "17   1.0  I383@G.H5.15    - P138@34.50     337 1014  18.0\n",
    "18   1.0   Y358@G.h4s6.20  - I233@5.72     312 1106  19.0\n",
    "19   1.0   E392@G.H5.24    - K270@6.32     346 1118  20.0\n",
    "````"
   ]
  },
  {
   "cell_type": "markdown",
   "metadata": {},
   "source": [
    "Depending on the usecase, this can be helpful or not, since most of the topology information is now lost: subfragments are kept but they there's sequence-jumps within them (e.g. TM5, TM6 and G.H5)."
   ]
  },
  {
   "cell_type": "code",
   "execution_count": null,
   "metadata": {},
   "outputs": [],
   "source": [
    "ifig, iax = intf.plot_freqs_as_flareplot(3.5,\n",
    "                                         scheme=\"residues\", \n",
    "                                         fragments=fragments, \n",
    "                                         fragment_names=fragment_names,\n",
    "                                         consensus_maps=[GPCR, CGN],\n",
    "                                         SS=True,\n",
    "                                        );\n",
    "\n",
    "\n",
    "ifig.savefig(\"flare.residues.w_fragments.w_consensus.pdf\")"
   ]
  },
  {
   "cell_type": "markdown",
   "metadata": {},
   "source": [
    "##  Coarse-Graning Flareplots: Chord Diagrams\n",
    "Finally, we can choose to coarse-grain the flareplot into a chord-diagram. For this, per-residue contact frequencies are aggregated by fragment, highlighting a fragment's participation in the interface, rather than each residue's.\n"
   ]
  },
  {
   "cell_type": "code",
   "execution_count": null,
   "metadata": {},
   "outputs": [],
   "source": [
    "ifig, iax = intf.plot_freqs_as_flareplot(3.5,\n",
    "                                         scheme=\"all\", \n",
    "                                         fragments=fragments, \n",
    "                                         fragment_names=fragment_names,\n",
    "                                         consensus_maps=[GPCR, CGN],\n",
    "                                         SS=True,\n",
    "                                         coarse_grain=True, \n",
    "                                        );"
   ]
  },
  {
   "cell_type": "markdown",
   "metadata": {},
   "source": [
    "Here, the per-fragment contact frequencies are not represented as curve opacities, but as **arc lengths**. The the more contacts a fragment has, longer the arc used to represent it. In this case, it's immediately clear that the G.H5 sub-domain of the G$\\alpha$ (also called G$\\alpha_5$), with 16 contacts, clearly dominates the G-protein's participation in the interface with the B2AR.\n",
    "\n",
    "Some observations:\n",
    "\n",
    "* The size of the fragment doesn't necessarily play a role here: only its participation in the interface. E.g. TM3 is clearly a larger fragment than ICL2 (check  [this plot](#scheme_consensus_plot)), but they appear similar in size because their participation in the interface is similar.\n",
    "\n",
    "* The keyword `scheme` loses meaning here: chord-diagrams are always sparse, i.e. zero-length fragments are never shown. As you see, the `scheme='all'` isn't having any effect.\n",
    "\n",
    "* Under the hood, [mdciao.flare.freqs2chord](https://proteinformatics.uni-leipzig.de/mdciao/api/generated/generated/mdciao.flare.freqs2chord.html) is being, called, which itself wraps around the [mpl_chord_diagram](https://pypi.org/project/mpl-chord-diagram/) package. "
   ]
  },
  {
   "cell_type": "markdown",
   "metadata": {},
   "source": [
    "The data being represented is the coarse-grained frequency matrix, which is calculated using [mdciao.contacts.ContactGroup.frequency_as_contact_matrix_CG](https://proteinformatics.uni-leipzig.de/mdciao/api/generated/generated/mdciao.contacts.ContactGroup.html#mdciao.contacts.ContactGroup.frequency_as_contact_matrix_CG)"
   ]
  },
  {
   "cell_type": "code",
   "execution_count": null,
   "metadata": {},
   "outputs": [],
   "source": [
    "intf.frequency_as_contact_matrix_CG(3.5,\n",
    "                                    fragments=fragments,\n",
    "                                    fragment_names=fragment_names,\n",
    "                                    consensus_labelers=[GPCR, CGN],\n",
    "                                    interface=True).replace(0, \"\")"
   ]
  }
 ],
 "metadata": {
  "kernelspec": {
   "display_name": "Python 3 (ipykernel)",
   "language": "python",
   "name": "python3"
  },
  "language_info": {
   "codemirror_mode": {
    "name": "ipython",
    "version": 3
   },
   "file_extension": ".py",
   "mimetype": "text/x-python",
   "name": "python",
   "nbconvert_exporter": "python",
   "pygments_lexer": "ipython3",
   "version": "3.9.12"
  }
 },
 "nbformat": 4,
 "nbformat_minor": 4
}
