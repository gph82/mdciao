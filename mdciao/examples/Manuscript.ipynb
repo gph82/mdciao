{
 "cells": [
  {
   "cell_type": "markdown",
   "metadata": {},
   "source": [
    "# Interface of β2 Adrenergic Receptor in Complex with Empty Gs-Protein"
   ]
  },
  {
   "cell_type": "code",
   "execution_count": null,
   "metadata": {},
   "outputs": [],
   "source": [
    "import mdtraj as md\n",
    "import mdciao"
   ]
  },
  {
   "cell_type": "markdown",
   "metadata": {},
   "source": [
    "### Download example data and load into the namespace"
   ]
  },
  {
   "cell_type": "code",
   "execution_count": null,
   "metadata": {},
   "outputs": [],
   "source": [
    "import numpy as np\n",
    "import os\n",
    "if not os.path.exists(\"mdciao_example\"):\n",
    "    mdciao.examples.fetch_example_data(\"b2ar@Gs\")\n",
    "traj = md.load(\"mdciao_example/traj.xtc\",top=\"mdciao_example/prot.pdb\")"
   ]
  },
  {
   "cell_type": "markdown",
   "metadata": {},
   "source": [
    "### Create consensus labeler objects"
   ]
  },
  {
   "cell_type": "code",
   "execution_count": null,
   "metadata": {},
   "outputs": [],
   "source": [
    "GPCR = mdciao.nomenclature.LabelerGPCR(\"adrb2_human\")\n",
    "CGN = mdciao.nomenclature.LabelerCGN(\"GNAS2_HUMAN\")"
   ]
  },
  {
   "cell_type": "markdown",
   "metadata": {},
   "source": [
    "### Guess molecular fragments\n",
    "This would be done anyway by the `mdciao.cli.interface` call in the cell below, here we do it have the fragments defined in the namespace"
   ]
  },
  {
   "cell_type": "code",
   "execution_count": null,
   "metadata": {},
   "outputs": [],
   "source": [
    "fragments = mdciao.fragments.get_fragments(traj.top);\n",
    "fragment_names = [\"Galpha\", \"Gbeta\", \"Ggamma\",\"B2AR\",\"P0G\"]"
   ]
  },
  {
   "cell_type": "markdown",
   "metadata": {},
   "source": [
    "### Compute G$\\alpha$-B2AR interface\n",
    "Using the above fragment definitions"
   ]
  },
  {
   "cell_type": "code",
   "execution_count": null,
   "metadata": {},
   "outputs": [],
   "source": [
    "intf = mdciao.cli.interface(traj,\n",
    "                            title=\"3SN6 beta2AR-Galpha interface\",\n",
    "                            fragments=fragments, fragment_names = fragment_names,                             \n",
    "                            frag_idxs_group_1=[0], \n",
    "                            frag_idxs_group_2=[3],\n",
    "                            GPCR_uniprot=GPCR, CGN_uniprot=CGN,\n",
    "                            accept_guess=True, no_disk=True, figures=False)"
   ]
  },
  {
   "cell_type": "markdown",
   "metadata": {},
   "source": [
    "### Plot each residues's participation in the interface"
   ]
  },
  {
   "cell_type": "code",
   "execution_count": null,
   "metadata": {},
   "outputs": [],
   "source": [
    "ifig = intf.plot_frequency_sums_as_bars(3.5, title_str = intf.name, \n",
    "                                 list_by_interface=True, \n",
    "                                 interface_vline=True);\n",
    "ifig.figure.savefig(\"intf.svg\")"
   ]
  },
  {
   "cell_type": "markdown",
   "metadata": {},
   "source": [
    "### Plot contact matrix"
   ]
  },
  {
   "cell_type": "code",
   "execution_count": null,
   "metadata": {},
   "outputs": [],
   "source": [
    "ifig, iax = intf.plot_interface_frequency_matrix(3.5, grid=True, pixelsize=.5);\n",
    "ifig.savefig(\"matrix.svg\")"
   ]
  },
  {
   "cell_type": "markdown",
   "metadata": {},
   "source": [
    "### Flareplot\n",
    "We combine a lot of information into one single flareplot:  \n",
    "\n",
    "* the molecular topology with sub-fragments and consensus labels, \n",
    "\n",
    "* the secondary structure, \n",
    "\n",
    "* the individual contact-pairs \n",
    "\n",
    "* the participation of each residue in the interface."
   ]
  },
  {
   "cell_type": "code",
   "execution_count": null,
   "metadata": {},
   "outputs": [],
   "source": [
    "ifig, iax = intf.plot_freqs_as_flareplot(3.5, \n",
    "                                         fragments=fragments, fragment_names = fragment_names,  \n",
    "                                         scheme=\"consensus_sparse\", consensus_maps=[GPCR, CGN], \n",
    "                                         aura=intf.frequency_sum_per_residue_idx_dict(3.5,return_array=True),\n",
    "                                         SS=True)\n",
    "ifig.figure.savefig(\"flare.svg\")"
   ]
  },
  {
   "cell_type": "markdown",
   "metadata": {},
   "source": [
    "### Coarse-Grained Frequencies and Flareplots"
   ]
  },
  {
   "cell_type": "code",
   "execution_count": null,
   "metadata": {},
   "outputs": [],
   "source": [
    "ifig, iax = intf.plot_freqs_as_flareplot(3.5, \n",
    "                                         fragments=fragments, fragment_names = fragment_names,  \n",
    "                                         consensus_maps=[GPCR, CGN],                                         \n",
    "                                         coarse_grain=True,\n",
    "                                        )\n",
    "intf.frequency_as_contact_matrix_CG(3.5, fragments=fragments, fragment_names = fragment_names,\n",
    "                                    consensus_labelers=[GPCR, CGN],\n",
    "                                    interface=True).round(1).replace(0,\"\")  \n"
   ]
  },
  {
   "cell_type": "markdown",
   "metadata": {},
   "source": [
    "### Grab a representative frame\n",
    "This frame will be used to plot the interface frequencies as a 3D heatmap (see `frequency_to_bfactor` below)."
   ]
  },
  {
   "cell_type": "code",
   "execution_count": null,
   "metadata": {},
   "outputs": [],
   "source": [
    "repframe = intf.repframes(return_traj=True)[-1][0]"
   ]
  },
  {
   "cell_type": "markdown",
   "metadata": {},
   "source": [
    "### Save the interface as a heatmap and view externally"
   ]
  },
  {
   "cell_type": "code",
   "execution_count": null,
   "metadata": {},
   "outputs": [],
   "source": [
    "intf.frequency_to_bfactor(3.5, pdbfile=\"interface_heatmap.pdb\", \n",
    "                          geom=repframe, \n",
    "                          interface_sign=True\n",
    "                         );"
   ]
  },
  {
   "cell_type": "markdown",
   "metadata": {},
   "source": [
    "### Save all mdciao objects for later reuse\n",
    "We can save all mdciao objects to numpy .npy (pickle) files and later reload them without having to compute everything again."
   ]
  },
  {
   "cell_type": "code",
   "execution_count": null,
   "metadata": {},
   "outputs": [],
   "source": [
    "import numpy as np\n",
    "np.save(\"GPCR.npy\", GPCR)\n",
    "np.save(\"CGN.npy\",CGN)\n",
    "np.save(\"intf.npy\",intf)"
   ]
  }
 ],
 "metadata": {
  "kernelspec": {
   "display_name": "Python 3 (ipykernel)",
   "language": "python",
   "name": "python3"
  },
  "language_info": {
   "codemirror_mode": {
    "name": "ipython",
    "version": 3
   },
   "file_extension": ".py",
   "mimetype": "text/x-python",
   "name": "python",
   "nbconvert_exporter": "python",
   "pygments_lexer": "ipython3",
   "version": "3.9.12"
  }
 },
 "nbformat": 4,
 "nbformat_minor": 4
}
