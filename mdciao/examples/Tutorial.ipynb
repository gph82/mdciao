{
 "cells": [
  {
   "cell_type": "markdown",
   "metadata": {},
   "source": [
    "# Jupyter Notebook Tutorial "
   ]
  },
  {
   "cell_type": "markdown",
   "metadata": {},
   "source": [
    "Roughly, the design idea of ``mdciao`` is that:\n",
    "\n",
    "* The [CLI](http://proteinformatics.uni-leipzig.de/mdciao/cli_cli/cli_cli.html) offers pre-packaged analysis pipelines that are essentially *one-shot* tools. They are an entry-point for non-experts and do not require any Python scripting knowledge. CLI tools are still highly customizable (check ``mdc_**.py -h`` or ``mdc_examples.py``), but offer **only some** of the ``mdciao``-functionalities.\n",
    "  \n",
    "* The [Python API](http://proteinformatics.uni-leipzig.de/mdciao/api/api.html), on the other hand, exposes:\n",
    "   - **CLI-equivalent** functions via the ``mdciao.cli`` [submodule](http://proteinformatics.uni-leipzig.de/mdciao/cli_cli/cli_cli.html). Here you'll find evertying that the CLI offers, only as regular Python functions. This provides scripting flexibility, with the added value that now input and outputs are *normal* Python objects that can be further manipulated, by ``mdciao`` or any other Python module of your liking.\n",
    "   - Other **standalone submodules** that the CLI uses *under the hood*, and that the user can access directly for any other scripting purpuse: plotting methods, alignment/sequence methods, nomenclature methods, PDB-methods etc.\n",
    "\n",
    "<div class=\"alert alert-info\">\n",
    "    \n",
    "<b>Note</b> \n",
    "    \n",
    "**THE API IS NOT STABLE YET**, if you are using ``mdciao`` in API mode, we assume you can handle future API changes without much hassle.\n",
    "\n",
    "</div>"
   ]
  },
  {
   "cell_type": "markdown",
   "metadata": {},
   "source": [
    "For clarity, this notebook loosely follows the same structure as the [Overview](http://proteinformatics.uni-leipzig.de/mdciao/overview.html) section of the ``mdciao``documentation. Other notebooks will follow soon, explaining basic concepts and/or advanced pipelines.\n",
    "\n",
    "If you want to run this notebook on your own, please download and extract the data from [here](http://proteinformatics.org/mdciao/mdciao_example.zip) first. You can download it:\n",
    "\n",
    "* using the browser \n",
    "* using the terminal with  \n",
    " ```wget http://proteinformatics.org/mdciao/mdciao_example.zip; unzip mdciao_example.zip```\n",
    "* using  mdciao's own method [mdciao.examples.fetch_example_data](https://proteinformatics.uni-leipzig.de/mdciao/api/generated/generated/mdciao.examples.fetch_example_data.html#mdciao-examples-fetch-example-data)"
   ]
  },
  {
   "cell_type": "code",
   "execution_count": null,
   "metadata": {},
   "outputs": [],
   "source": [
    "import mdciao, os\n",
    "if not os.path.exists(\"mdciao_example\"):\n",
    "    mdciao.examples.fetch_example_data()"
   ]
  },
  {
   "cell_type": "markdown",
   "metadata": {},
   "source": [
    "## Basic Usage\n",
    "Now we replicate the CLI command:\n",
    "\n",
    "```\n",
    "mdc_neighborhoods.py prot.pdb traj.xtc --residues L394 -nf #nf: don't use fragments\n",
    "```\n",
    "\n",
    "but in API mode. We use the method [cli.residue_neighborhoods](http://proteinformatics.uni-leipzig.de/mdciao/api/generated/generated/mdciao.cli.residue_neighborhoods.html#mdciao.cli.residue_neighborhoods):"
   ]
  },
  {
   "cell_type": "code",
   "execution_count": null,
   "metadata": {},
   "outputs": [],
   "source": [
    "result= mdciao.cli.residue_neighborhoods(\"L394\",\n",
    "                                         \"mdciao_example/traj.xtc\", \n",
    "                                         \"mdciao_example/prot.pdb\", \n",
    "                                         fragments=[None])"
   ]
  },
  {
   "cell_type": "markdown",
   "metadata": {},
   "source": [
    "``result`` is a dictionary of dictionaries, with the main result under the key ``neighborhoods``. There, you'll find a dictionary keyed with residue indices and valued with a [ContactGroup](https://proteinformatics.uni-leipzig.de/mdciao/api/generated/generated/mdciao.contacts.ContactGroup.html#mdciao.contacts.ContactGroup) for each residue neighborhood. \n",
    "\n",
    "[ContactGroups](https://proteinformatics.uni-leipzig.de/mdciao/api/generated/generated/mdciao.contacts.ContactGroup.html#mdciao.contacts.ContactGroup) are ``mdciao`` classes that allow the further manipulation of contact data, molecular information and much more. Check here to learn more about ``mdciao`` [classes](https://proteinformatics.uni-leipzig.de/mdciao/api/generated/mdciao.contacts.html)."
   ]
  },
  {
   "cell_type": "code",
   "execution_count": null,
   "metadata": {},
   "outputs": [],
   "source": [
    "result[\"neighborhoods\"][353]"
   ]
  },
  {
   "cell_type": "markdown",
   "metadata": {},
   "source": [
    "## Using Python Objects\n",
    "Please note that in API mode, inputs can be objects, for example ``mdtraj`` [Trajectories](https://mdtraj.org/1.9.4/api/generated/mdtraj.Trajectory.html). So, before calling the next ``mdciao.cli`` method, we use ``mdtraj`` to load the trajectory from our files:"
   ]
  },
  {
   "cell_type": "code",
   "execution_count": null,
   "metadata": {},
   "outputs": [],
   "source": [
    "import mdtraj as md\n",
    "traj = md.load(\"mdciao_example/traj.xtc\", top=\"mdciao_example/prot.pdb\")\n",
    "traj"
   ]
  },
  {
   "cell_type": "markdown",
   "metadata": {},
   "source": [
    "And we repeat the above command using the ``traj`` object. Please note that we're also using the ``no_disk`` option so that no files are written to disk, in case we're only interested in working in memory."
   ]
  },
  {
   "cell_type": "code",
   "execution_count": null,
   "metadata": {},
   "outputs": [],
   "source": [
    "result = mdciao.cli.residue_neighborhoods(\"L394\",\n",
    "                                          traj,\n",
    "                                          fragments=[None],\n",
    "                                          no_disk=True)"
   ]
  },
  {
   "cell_type": "markdown",
   "metadata": {},
   "source": [
    "Now, the more elaborated CLI-command:\n",
    "\n",
    "```\n",
    "mdc_neighborhoods.py prot.pdb traj.xtc -r L394 --GPCR adrb2_human --CGN GNAS2_HUMAN -ni -at #ni: not interactive, at: show atom-types\n",
    "```\n",
    "\n",
    "We keep the ``no_disk`` option to avoid writing to disk, but you can change this if you want. **Please note** that some options **do not carry** exactly the same names as their CLI equivalents. E.g. ``ni`` in the CLI (= *don't be interactive*) is now ``accept_guess`` in the API. These differences are needed for compatiblity with other methods, but might get unified in the future. "
   ]
  },
  {
   "cell_type": "code",
   "execution_count": null,
   "metadata": {},
   "outputs": [],
   "source": [
    "result = mdciao.cli.residue_neighborhoods(\"L394\",\n",
    "                                          traj,\n",
    "                                          GPCR_uniprot=\"adrb2_human\",\n",
    "                                          CGN_uniprot=\"GNAS2_HUMAN\",\n",
    "                                          accept_guess=True,\n",
    "                                          plot_atomtypes=True,\n",
    "                                          no_disk=True)"
   ]
  },
  {
   "cell_type": "markdown",
   "metadata": {},
   "source": [
    "## Consensus Nomenclature: GPCR and/or CGN\n",
    "Above, we declared our intention to use GPCR consensus nomenclature and Common G-alpha Numbering (CGN) by passing the descriptor strings ``GPCR_uniprot=\"adrb2_human\"`` or ``CGN_uniprot=\"GNAS2_HUMAN\"``, respectively, to contact the online databases, in particular the  \n",
    "\n",
    "* [GPCRdb](https://gpcrdb.org/), Kooistra et al, (2021) GPCRdb in 2021: Integrating GPCR sequence, structure and function, Nucleic Acids Research 49, D335--D343, https://doi.org/10.1093/nar/gkaa1080\n",
    "\n",
    "For that retrieval and handling of these labels, we use the [module](https://proteinformatics.uni-leipzig.de/mdciao/api/generated/mdciao.nomenclature.html) ``mdciao.nomenclature``, which offers [two main classes](https://proteinformatics.uni-leipzig.de/mdciao/api/generated/mdciao.nomenclature.html#classes) and other helper function to deal with the nomenclature. An overview of the relevant references is contained in [the module's documentation](https://proteinformatics.uni-leipzig.de/mdciao/api/generated/mdciao.nomenclature.html) as well as in the documentation of each class, e.g. [here](https://proteinformatics.uni-leipzig.de/mdciao/api/generated/generated/mdciao.nomenclature.LabelerGPCR.html#mdciao.nomenclature.LabelerGPCR).\n",
    "\n",
    "Additionally, you can use [mdciao.nomenclature.references](https://proteinformatics.uni-leipzig.de/mdciao/api/generated/generated/mdciao.nomenclature.references.html) to print all relevant nomenclature references:"
   ]
  },
  {
   "cell_type": "code",
   "execution_count": null,
   "metadata": {},
   "outputs": [],
   "source": [
    "mdciao.nomenclature.references()"
   ]
  },
  {
   "cell_type": "markdown",
   "metadata": {},
   "source": [
    "The nomenclature classes produce standalone objects, and can do much more than just be inputs to `mdciao.cli` methods. As with any Python class, you can learn a lot about its methods and attributes by using the [tab autocompletion feature of IPython](https://ipython.org/ipython-doc/dev/interactive/tutorial.html#tab-completion). Or you can check [here](http://proteinformatics.uni-leipzig.de/mdciao/api/generated/mdciao.nomenclature.html) for more ``mdciao`` docs. \n",
    "\n",
    "Since we'll be using these labels more than once in the notebook, instead of using the network each time, we can have them as Python objects in memory. Alternatively, it's possible to save the labeling data locally after the first database query. This allows for inspection and re-use of the retrieved data outside the notebook (in a spreadsheet, for example)."
   ]
  },
  {
   "cell_type": "code",
   "execution_count": null,
   "metadata": {},
   "outputs": [],
   "source": [
    "from mdciao import nomenclature\n",
    "GPCR = nomenclature.LabelerGPCR(\"adrb2_human\", \n",
    "                            #write_to_disk=True \n",
    "                           )\n",
    "CGN = nomenclature.LabelerCGN(\"GNAS2_HUMAN\", \n",
    "                             # write_to_disk=True\n",
    "                             )"
   ]
  },
  {
   "cell_type": "markdown",
   "metadata": {},
   "source": [
    "## Residue Selection\n",
    "Now, we can play around with residue selection, replicating the CLI-command:\n",
    "\n",
    "```\n",
    "mdc_residues.py GLU*,P0G,380-394,G.HN.* prot.pdb --GPCR adrb2_human --CGN GNAS2_HUMAN -ni\n",
    "```\n",
    "\n",
    "Check the docs [here](http://proteinformatics.uni-leipzig.de/mdciao/api/generated/generated/mdciao.cli.residue_selection.html) to check the output values `res_idxs_list`,` fragments`, and `consensus_maps`, although most of out useful output is written out.\n",
    "\n",
    "Please note that we're now using ``mdciao.nomenclature`` classes directly as inputs (``GPCR`` and ``CGN``), speeding up the method by avoiding queries over the network."
   ]
  },
  {
   "cell_type": "code",
   "execution_count": null,
   "metadata": {},
   "outputs": [],
   "source": []
  },
  {
   "cell_type": "code",
   "execution_count": null,
   "metadata": {},
   "outputs": [],
   "source": [
    "res_idxs_list, fragments, consensus_maps = mdciao.cli.residue_selection(\n",
    "    \"GLU*,P0G,380-394,G.HN.*\",\n",
    "    traj,\n",
    "    GPCR_uniprot=GPCR,\n",
    "    CGN_uniprot=CGN,\n",
    "    accept_guess=True)"
   ]
  },
  {
   "cell_type": "markdown",
   "metadata": {},
   "source": [
    "## PDB Queries\n",
    "Now we grab a structure directly from the PDB, replicating the CLI command:\n",
    "\n",
    "```\n",
    "mdc_pdb.py 3SN6 -o 3SN6.gro\n",
    "```\n",
    "\n",
    "by using `mdciao.cli.pdb`. Check [here](http://proteinformatics.uni-leipzig.de/mdciao/api/generated/generated/mdciao.cli.pdb.html#mdciao.cli.pdb) or use the inline docstring for more info. Please note that we're not storing the retrived structure on disk, but rather having it in memory as an ``mdtraj.Trajectory``:"
   ]
  },
  {
   "cell_type": "code",
   "execution_count": null,
   "metadata": {},
   "outputs": [],
   "source": [
    "xray3SN6= mdciao.cli.pdb(\"3SN6\")\n",
    "xray3SN6"
   ]
  },
  {
   "cell_type": "markdown",
   "metadata": {},
   "source": [
    "Now we can use the [awesome nglviewer](https://github.com/nglviewer/nglview/) to 3D-visualize the freshly grabbed structure inside the notebook.\n",
    "\n",
    "We need to import the module first, which needs to be installed in your Python environment. If you don't we recommend you [install](https://github.com/nglviewer/nglview/#installation) it via pip:\n",
    "\n",
    "```\n",
    "pip install nglview\n",
    "jupyter-nbextension enable nglview --py --sys-prefix\n",
    "```\n",
    "\n",
    "If you don't feel like installing now, you can continue use the notebook. "
   ]
  },
  {
   "cell_type": "code",
   "execution_count": null,
   "metadata": {},
   "outputs": [],
   "source": [
    "try:\n",
    "    import nglview\n",
    "    iwd = nglview.show_mdtraj(xray3SN6)\n",
    "except ImportError:\n",
    "    iwd = None\n",
    "iwd\n"
   ]
  },
  {
   "cell_type": "markdown",
   "metadata": {},
   "source": [
    "## Fragmentation Heuristics\n",
    "Now we go to fragmentation heuristics, replicating the CLI command:\n",
    "\n",
    "```\n",
    "mdc_fragments.py 3SN6.gro\n",
    "```\n",
    "\n",
    "but with the object ``xray3SN6`` (the ``.gro``-file comes below) and by using the ``cli.fragments`` method. Check [here](http://proteinformatics.uni-leipzig.de/mdciao/api/generated/generated/mdciao.cli.fragment_overview.html#mdciao.cli.fragment_overview) or the inline docstring for more info. Also note that ``cli.fragments`` simply wraps around [mdciao.fragments.get_fragments](https://proteinformatics.uni-leipzig.de/mdciao/api/generated/generated/mdciao.fragments.get_fragments.html), and you can use that method (or others in [mdciao.fragments](https://proteinformatics.uni-leipzig.de/mdciao/api/generated/mdciao.fragments.html)) directly."
   ]
  },
  {
   "cell_type": "code",
   "execution_count": null,
   "metadata": {},
   "outputs": [],
   "source": [
    "frags= mdciao.cli.fragment_overview(xray3SN6.top)"
   ]
  },
  {
   "cell_type": "markdown",
   "metadata": {},
   "source": [
    "This call iterates through all available heuristics on the ``mdtraj``[Topology](https://mdtraj.org/1.9.4/api/generated/mdtraj.Topology.html), arriving at different definitions of molecular fragments. They are all returned as a dictionary:"
   ]
  },
  {
   "cell_type": "code",
   "execution_count": null,
   "metadata": {},
   "outputs": [],
   "source": [
    "frags.keys()"
   ]
  },
  {
   "cell_type": "markdown",
   "metadata": {},
   "source": [
    "Please note that since ``xray3SN6`` comes from the PDB directly, it contains chain descriptors, s.t. the method ``chains`` (first one) can simply list the chain information encoded into the PDB, which you can check [here](https://www.rcsb.org/sequence/3SN6):\n",
    "\n",
    "```\n",
    "Auto-detected fragments with method 'chains'\n",
    "fragment      0 with    349 AAs     THR9 (     0) -   LEU394 (348   ) (0)  resSeq jumps\n",
    "fragment      1 with    340 AAs     GLN1 (   349) -   ASN340 (688   ) (1) \n",
    "fragment      2 with     58 AAs     ASN5 (   689) -    ARG62 (746   ) (2) \n",
    "fragment      3 with    443 AAs  ASN1002 (   747) -   CYS341 (1189  ) (3)  resSeq jumps\n",
    "fragment      4 with    128 AAs     GLN1 (  1190) -   SER128 (1317  ) (4) \n",
    "fragment      5 with      1 AAs  P0G1601 (  1318) -  P0G1601 (1318  ) (5)       5 with    1 AAs  P0G1601           (1318) -  P0G1601           (1318) (5) \n",
    "```"
   ]
  },
  {
   "cell_type": "markdown",
   "metadata": {},
   "source": [
    "These fragments are:\n",
    "\n",
    "0. G-protein $\\alpha$ sub-unit\n",
    "1. G-protein $\\beta$ sub-unit\n",
    "2. G-protein $\\gamma$ sub-unit\n",
    "3. $\\beta_2$ adrenergic receptor, together with the bacteriophage T4 lysozyme as N-terminus\n",
    "4. VHH nanobody\n",
    "5. Ligand P0G\n",
    "\n",
    "However, we loose that chain information if we store the structure as ``.gro``, which doesn't encode for chains (i.e., the entire topology is put into a single chain)."
   ]
  },
  {
   "cell_type": "code",
   "execution_count": null,
   "metadata": {},
   "outputs": [],
   "source": [
    "from tempfile import NamedTemporaryFile\n",
    "with NamedTemporaryFile(suffix=\".gro\") as tmpgro:\n",
    "    xray3SN6.save(tmpgro.name)\n",
    "    xray3SN6gro = md.load(tmpgro.name)\n",
    "mdciao.cli.fragment_overview(xray3SN6gro.top, methods=[\"chains\", \"lig_resSeq+\"]);"
   ]
  },
  {
   "cell_type": "markdown",
   "metadata": {},
   "source": [
    "The ``lig_resSeq+`` (the current default) has attempted to recover some meaningful fragments, closely resembling the original chains:"
   ]
  },
  {
   "cell_type": "markdown",
   "metadata": {},
   "source": [
    "0. G-protein $\\alpha$ sub-unit\n",
    "1. G-protein $\\beta$ sub-unit\n",
    "2. G-protein $\\gamma$ sub-unit\n",
    "3. Bacteriophage T4 lysozyme as N-terminus\n",
    "4. $\\beta_2$ adrenergic receptor\n",
    "5. VHH nanobody\n",
    "6. Ligand P0G\n",
    "\n",
    "The former fragment 3 (4TL-$\\beta_2$AR) chain has been broken up into T4L and $\\beta_2$AR."
   ]
  },
  {
   "cell_type": "markdown",
   "metadata": {},
   "source": [
    "## Interfaces\n",
    "Now we move to a more elaborate command:\n",
    "\n",
    "```\n",
    "mdc_interface.py prot.pdb traj.xtc -fg1 0 -fg2 3 --GPCR adrb2_human --CGN GNAS2_HUMAN -t \"3SN6 beta2AR-Galpha interface\" -ni\n",
    "```\n",
    "\n",
    "and replicate it using ``cli.interface``. Check the docs [here](http://proteinformatics.uni-leipzig.de/mdciao/api/generated/generated/mdciao.cli.interface.html#mdciao.cli.interface) or in the method's docstring. \n",
    "\n",
    "Additionally, we now have two other notebooks explicitly devoted to the representation of interfaces:\n",
    "\n",
    "* [Bar Plots](https://proteinformatics.uni-leipzig.de/mdciao/notebooks/Comparing_CGs_Bars.html)\n",
    "* [FlarePlots](https://proteinformatics.uni-leipzig.de/mdciao/notebooks/Comparing_CGs_Flares.html)"
   ]
  },
  {
   "cell_type": "code",
   "execution_count": null,
   "metadata": {},
   "outputs": [],
   "source": [
    "mdciao.cli.interface(traj,\n",
    "                     frag_idxs_group_1=[0],\n",
    "                     frag_idxs_group_2=[3],\n",
    "                     GPCR_uniprot=GPCR,\n",
    "                     CGN_uniprot=CGN,\n",
    "                     title=\"3SN6 beta2AR-Galpha interface\",\n",
    "                     accept_guess=True,\n",
    "                     plot_timedep=False,\n",
    "                     no_disk=True)"
   ]
  },
  {
   "cell_type": "markdown",
   "metadata": {},
   "source": [
    "## Sites\n",
    "Now we use a different approach. Instead of letting ``mdciao`` discover contacts automatically, we list them beforehand as ``site`` dictionaries, and feed this dictionaries to directly to the [method](http://proteinformatics.uni-leipzig.de/mdciao/api/generated/generated/mdciao.cli.sites.html) ``cli.sites``. The CLI command we're replicating is:\n",
    "\n",
    "```\n",
    "mdc_sites.py prot.pdb traj.xtc --site tip.json -at -nf -sa #sa: short AA-names\n",
    "```\n",
    "\n",
    "However, in the API-spirit, we're not even using a file on disk to define the ``site``, but create it on the fly as a Python dictionary:"
   ]
  },
  {
   "cell_type": "code",
   "execution_count": null,
   "metadata": {},
   "outputs": [],
   "source": [
    "my_site = {\n",
    "    \"name\":\"interface small\",\n",
    "    \"pairs\": {\"AAresSeq\": [\n",
    "        \"L394-K270\",\n",
    "        \"D381-Q229\",\n",
    "        \"Q384-Q229\",\n",
    "        \"R385-Q229\",\n",
    "        \"D381-K232\",\n",
    "        \"Q384-I135\"\n",
    "        ]}}"
   ]
  },
  {
   "cell_type": "code",
   "execution_count": null,
   "metadata": {},
   "outputs": [],
   "source": [
    "sites = mdciao.cli.sites([my_site],\n",
    "                         traj,\n",
    "                         no_disk=True,\n",
    "                         plot_atomtypes=True,\n",
    "                         fragments=[None],\n",
    "                         short_AA_names=True)"
   ]
  },
  {
   "cell_type": "markdown",
   "metadata": {},
   "source": [
    "The return value ``sites`` is a dictionary keyed with the site names (``interface small`` in this case) and valued with ``mdciao's`` [ContactGroup](http://proteinformatics.uni-leipzig.de/mdciao/api/generated/generated/mdciao.contacts.ContactGroup.html#mdciao.contacts.ContactGroup)-objects."
   ]
  },
  {
   "cell_type": "code",
   "execution_count": null,
   "metadata": {},
   "outputs": [],
   "source": [
    "sites"
   ]
  },
  {
   "cell_type": "markdown",
   "metadata": {},
   "source": [
    "## Contact Groups\n",
    "The [ContactGroup](http://proteinformatics.uni-leipzig.de/mdciao/api/generated/generated/mdciao.contacts.ContactGroup.html#mdciao.contacts.ContactGroup) class is at the center of ``mdciao`` and offers extensive of manipulation through it's methods. A helpful analogy would be that, what the [Trajectory](https://mdtraj.org/1.9.4/api/generated/mdtraj.Trajectory.html) is to ``mdtraj``, the [ContactGroup](http://proteinformatics.uni-leipzig.de/mdciao/api/generated/generated/mdciao.contacts.ContactGroup.html#mdciao.contacts.ContactGroup) is to ``mdciao``. Both classes:\n",
    " \n",
    " * store a lot of organized information for further use\n",
    " * have attributes and methods that can be used standalone\n",
    " * can themselves be the input for other methods (of ``mdtraj`` and ``mdciao``, respectively). \n",
    " * are rarely created from scratch, but rather generated by the module itself.\n",
    "\n",
    "The best way to learn about the [ContactGroup](http://proteinformatics.uni-leipzig.de/mdciao/api/generated/generated/mdciao.contacts.ContactGroup.html#mdciao.contacts.ContactGroup) is to inspect it with the autocomplete feature if IPython and check the informative names of the attributes and methods.\n",
    "\n",
    "If you're in a hurry, ``mdciao`` offers a quick way to generate a [ContactGroup](http://proteinformatics.uni-leipzig.de/mdciao/api/generated/generated/mdciao.contacts.ContactGroup.html#mdciao.contacts.ContactGroup) to play around with and investigate it's methods and attributes:"
   ]
  },
  {
   "cell_type": "code",
   "execution_count": null,
   "metadata": {},
   "outputs": [],
   "source": [
    "from mdciao import examples\n",
    "CG = examples.ContactGroupL394()\n",
    "CG"
   ]
  },
  {
   "cell_type": "markdown",
   "metadata": {},
   "source": [
    "However, instead of using ``CG`` now, we go back to object ``sites`` that resulted from using ``cli.sites`` above. The returned ``sites``-object is a dictionary keyed with site names (you can compute different sites simultaneously) and valued with [ContactGroups](http://proteinformatics.uni-leipzig.de/mdciao/api/generated/generated/mdciao.contacts.ContactGroup.html#mdciao.contacts.ContactGroup). In our case (check above) we called it it *interface small*"
   ]
  },
  {
   "cell_type": "code",
   "execution_count": null,
   "metadata": {},
   "outputs": [],
   "source": [
    "mysite = sites[\"interface small\"]"
   ]
  },
  {
   "cell_type": "markdown",
   "metadata": {},
   "source": [
    "### Frequencies as Bars\n",
    "We use the class's method [plot_freqs_as_bars](http://proteinformatics.uni-leipzig.de/mdciao/api/generated/generated/mdciao.contacts.ContactGroup.html#mdciao.contacts.ContactGroup.plot_freqs_as_bars) to produce the now familiar neighborhood plots:"
   ]
  },
  {
   "cell_type": "code",
   "execution_count": null,
   "metadata": {},
   "outputs": [],
   "source": [
    "mysite.plot_freqs_as_bars(3.5, \n",
    "                          shorten_AAs=True, \n",
    "                          defrag=\"@\", \n",
    "                          atom_types=True);"
   ]
  },
  {
   "cell_type": "markdown",
   "metadata": {},
   "source": [
    "### Frequencies as Distributions\n",
    "It is also very useful to inspect the residue-residue distances of any [ContactGroup](http://proteinformatics.uni-leipzig.de/mdciao/api/generated/generated/mdciao.contacts.ContactGroup.html#mdciao.contacts.ContactGroup) by looking at their **overall distributions** instead of their frequencies, since the hard cutoffs can sometimes hide part of the story:"
   ]
  },
  {
   "cell_type": "code",
   "execution_count": null,
   "metadata": {},
   "outputs": [],
   "source": [
    "jax = mysite.plot_distance_distributions(bins=15,\n",
    "                                         defrag=\"@\",\n",
    "                                         ctc_cutoff_Ang=3.5\n",
    "                                        )"
   ]
  },
  {
   "cell_type": "markdown",
   "metadata": {},
   "source": [
    "Please note that, because the example dataset is quite small (280 frames and 2.8 ns) and we are simply histogramming (=counting), the curves aren't very smooth. Histograms of real data will look better.\n",
    "\n",
    "### Frequencies as Violins\n",
    "Other ways of looking at distance-data as distributions is to use [violin plots](https://proteinformatics.uni-leipzig.de/mdciao/api/generated/generated/mdciao.contacts.ContactGroup.html#mdciao.contacts.ContactGroup.plot_violins), which uses a density estimator (check the ``bw_method``-parameter [here](https://matplotlib.org/stable/api/_as_gen/matplotlib.pyplot.violinplot.html))  to generate smooth densities and plot them vertically. This is somehow in-between the histogram plot and the frequency-bar plot:"
   ]
  },
  {
   "cell_type": "code",
   "execution_count": null,
   "metadata": {},
   "outputs": [],
   "source": [
    "jax = mysite.plot_violins(defrag=\"@\",\n",
    "                          ctc_cutoff_Ang=3.5,\n",
    "                          color=\"tab10\", \n",
    "                         )"
   ]
  },
  {
   "cell_type": "markdown",
   "metadata": {},
   "source": [
    "<div class=\"alert alert-info\">\n",
    "    \n",
    "<b>Note</b> \n",
    "    \n",
    "In principle,  we could also use a density estimator in ``plot_distance_distributions``to make them look smooth, but we have decided to leave them as.\n",
    "</div>"
   ]
  },
  {
   "cell_type": "markdown",
   "metadata": {},
   "source": [
    "## Comparisons Between Contact Groups\n",
    "Finally, we replicate the CLI comand\n",
    "\n",
    "```\n",
    "mdc_compare.py 3SN6.X.ARG131@4.0_Ang.dat 3SN6.MD.ARG131@4.0_Ang.dat -k Xray,MD -t \"3SN6 cutoff 4AA\" -a R131\n",
    "```\n",
    "\n",
    "in API mode. This looks different because most of the inputs will now be Python objects in memory.\n",
    "\n",
    "First, we create the Xray and the MD ContactGroups separately:"
   ]
  },
  {
   "cell_type": "code",
   "execution_count": null,
   "metadata": {},
   "outputs": [],
   "source": [
    "R131_Xray = mdciao.cli.residue_neighborhoods(\"R131\", xray3SN6, \n",
    "                                             ctc_cutoff_Ang=4,\n",
    "                                             no_disk=True,\n",
    "                                             GPCR_uniprot=GPCR,\n",
    "                                             figures=False,\n",
    "                                             CGN_uniprot=CGN,\n",
    "                                             accept_guess=True)[\"neighborhoods\"];"
   ]
  },
  {
   "cell_type": "code",
   "execution_count": null,
   "metadata": {},
   "outputs": [],
   "source": [
    "R131_MD = mdciao.cli.residue_neighborhoods(\"R131\",traj, \n",
    "                                           ctc_cutoff_Ang=4,\n",
    "                                           no_disk=True,\n",
    "                                           GPCR_uniprot=GPCR,\n",
    "                                           figures=False,\n",
    "                                           CGN_uniprot=CGN,\n",
    "                                           accept_guess=True)[\"neighborhoods\"];"
   ]
  },
  {
   "cell_type": "markdown",
   "metadata": {},
   "source": [
    "Please note that, because the molecular topologies differ, the residue ``R131`` is has different indices in each topology, namely 1007 in the X-ray crystal, 861 in the MD simulation:"
   ]
  },
  {
   "cell_type": "code",
   "execution_count": null,
   "metadata": {},
   "outputs": [],
   "source": [
    "R131_Xray, R131_MD"
   ]
  },
  {
   "cell_type": "markdown",
   "metadata": {},
   "source": [
    "That will frequently be the case when comparing different proteins of the same family, or topologies where not all sub-units have been modelled etc or antying that produces a shift in these indices. "
   ]
  },
  {
   "cell_type": "markdown",
   "metadata": {},
   "source": [
    "``mdciao`` *understands* ``R131`` automatically and doesn't ask more questions, as long as there's an obvious ``R131`` candidate. Otherwise the user will be prompted for disambiguation. \n",
    "\n",
    "In this case, now we create a dictionary of ContactGroups that represent the R131 in both topologies:"
   ]
  },
  {
   "cell_type": "code",
   "execution_count": null,
   "metadata": {},
   "outputs": [],
   "source": [
    "R131 = {\n",
    "    \"Xray\": R131_Xray[1007],\n",
    "    \"MD\"  : R131_MD[861]\n",
    "}\n",
    "#np.save(\"R131.npz\",R131)"
   ]
  },
  {
   "cell_type": "markdown",
   "metadata": {},
   "source": [
    "Now we can just pass this dictionary to ``cli.compare`` to see their contact frequencies. This module is pretty flexible on inputs and outputs, check the [documentation](http://proteinformatics.uni-leipzig.de/mdciao/api/generated/generated/mdciao.cli.compare.html#mdciao.cli.compare) to learn more: "
   ]
  },
  {
   "cell_type": "code",
   "execution_count": null,
   "metadata": {},
   "outputs": [],
   "source": [
    "mdciao.cli.compare(R131, ctc_cutoff_Ang=4, defrag=None, anchor=\"R131\");"
   ]
  }
 ],
 "metadata": {
  "kernelspec": {
   "display_name": "Python 3 (ipykernel)",
   "language": "python",
   "name": "python3"
  },
  "language_info": {
   "codemirror_mode": {
    "name": "ipython",
    "version": 3
   },
   "file_extension": ".py",
   "mimetype": "text/x-python",
   "name": "python",
   "nbconvert_exporter": "python",
   "pygments_lexer": "ipython3",
   "version": "3.9.12"
  }
 },
 "nbformat": 4,
 "nbformat_minor": 4
}
